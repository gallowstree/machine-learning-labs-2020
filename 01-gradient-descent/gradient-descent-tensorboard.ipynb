{
 "cells": [
  {
   "cell_type": "markdown",
   "metadata": {},
   "source": [
    "# Gradient descent y Tensorboard"
   ]
  },
  {
   "cell_type": "markdown",
   "metadata": {},
   "source": [
    "## Configuración y carga de datos"
   ]
  },
  {
   "cell_type": "code",
   "execution_count": 39,
   "metadata": {},
   "outputs": [
    {
     "name": "stdout",
     "output_type": "stream",
     "text": [
      "The tensorboard extension is already loaded. To reload it, use:\n",
      "  %reload_ext tensorboard\n"
     ]
    }
   ],
   "source": [
    "import datetime, os\n",
    "import numpy as np\n",
    "import matplotlib.pyplot as plt\n",
    "import tensorflow as tf\n",
    "\n",
    "if tf.__version__.startswith(\"2.\"):\n",
    "  import tensorflow.compat.v1 as tf\n",
    "  tf.compat.v1.disable_v2_behavior()\n",
    "  tf.compat.v1.disable_eager_execution()\n",
    "\n",
    "import tensorflow_probability as tfp\n",
    "\n",
    "\n",
    "tb_logs_dir = \"./logs/\"\n",
    "os.makedirs(tb_logs_dir, exist_ok=True)\n",
    "\n",
    "%load_ext tensorboard\n",
    "# %tensorboard --logdir {tb_logs_dir}"
   ]
  },
  {
   "cell_type": "code",
   "execution_count": 17,
   "metadata": {},
   "outputs": [
    {
     "data": {
      "image/png": "[encoded data removed]",
      "text/plain": [
       "<Figure size 432x288 with 1 Axes>"
      ]
     },
     "metadata": {
      "needs_background": "light"
     },
     "output_type": "display_data"
    }
   ],
   "source": [
    "all_data = np.load('data/proyecto_training_data.npy')\n",
    "\n",
    "training_y = all_data[:,0].reshape(-1,1) / 1000 # precio de venta en miles de dólares\n",
    "training_x = all_data[:,1].reshape(-1,1)\n",
    "n_sample = len(training_y)\n",
    "\n",
    "plt.scatter(training_x, training_y)\n",
    "plt.show()"
   ]
  },
  {
   "cell_type": "markdown",
   "metadata": {},
   "source": [
    "## Formulación de hipótesis\n",
    "\n",
    "Verificamos que las variables presentan un coeficiente de correlación positivo y considerablemente alto. Esto nos indica que un modelo de regresión lineal podría ajustarse a los datos."
   ]
  },
  {
   "cell_type": "code",
   "execution_count": 18,
   "metadata": {},
   "outputs": [
    {
     "name": "stdout",
     "output_type": "stream",
     "text": [
      "[[0.7909816]]\n"
     ]
    }
   ],
   "source": [
    "\n",
    "corr = tfp.experimental.substrates.numpy.stats.correlation(np.copy(training_x), np.copy(training_y))\n",
    "print(corr)"
   ]
  },
  {
   "cell_type": "markdown",
   "metadata": {},
   "source": [
    "## Definicion de grafo"
   ]
  },
  {
   "cell_type": "code",
   "execution_count": 34,
   "metadata": {},
   "outputs": [],
   "source": [
    "class Model:\n",
    "    def __init__(self, training_x, training_y, learning_rate):\n",
    "        with tf.name_scope(\"datos_de_entrenamiento\"):\n",
    "            self.x = tf.concat([training_x, tf.ones_like(training_x)], axis = 1)\n",
    "            self.y = training_y\n",
    "            self.learning_rate = learning_rate\n",
    "        with tf.name_scope(\"parametros_entrenables\"):\n",
    "            self.weights = tf.Variable(name=\"Weights\", initial_value=tf.zeros((2,1),tf.float64))\n",
    "            self.error = tf.Variable(tf.constant(0.0))\n",
    "    \n",
    "    def epoch(self):\n",
    "        with tf.name_scope(\"predecir_y_hat\"):\n",
    "            y_hat = tf.matmul(self.x, self.weights)\n",
    "        with tf.name_scope(\"calcular_error\"):\n",
    "            self.error = (1/2 * tf.reduce_mean(tf.math.square(self.y - y_hat)))\n",
    "        with tf.name_scope(\"calcular_gradientes\"):\n",
    "            gradients = tf.gradients(self.error, self.weights)\n",
    "        with tf.name_scope(\"actualizar_Pesos\"):\n",
    "            adjustment = tf.scalar_mul(-self.learning_rate, gradients[0])\n",
    "            return tf.assign(self.weights, (tf.add(self.weights, adjustment)))\n"
   ]
  },
  {
   "cell_type": "markdown",
   "metadata": {},
   "source": [
    "## Entrenamiento\n",
    "#### Tensorboard"
   ]
  },
  {
   "cell_type": "code",
   "execution_count": 28,
   "metadata": {},
   "outputs": [
    {
     "data": {
      "text/plain": [
       "Reusing TensorBoard on port 6006 (pid 21994), started 0:03:26 ago. (Use '!kill 21994' to kill it.)"
      ]
     },
     "metadata": {},
     "output_type": "display_data"
    },
    {
     "data": {
      "text/html": [
       "\n",
       "      <iframe id=\"tensorboard-frame-e5ef8f9165cafd99\" width=\"100%\" height=\"800\" frameborder=\"0\">\n",
       "      </iframe>\n",
       "      <script>\n",
       "        (function() {\n",
       "          const frame = document.getElementById(\"tensorboard-frame-e5ef8f9165cafd99\");\n",
       "          const url = new URL(\"/\", window.location);\n",
       "          url.port = 6006;\n",
       "          frame.src = url;\n",
       "        })();\n",
       "      </script>\n",
       "  "
      ],
      "text/plain": [
       "<IPython.core.display.HTML object>"
      ]
     },
     "metadata": {},
     "output_type": "display_data"
    }
   ],
   "source": [
    "%tensorboard --logdir {tb_logs_dir}"
   ]
  },
  {
   "cell_type": "code",
   "execution_count": 47,
   "metadata": {},
   "outputs": [],
   "source": [
    "tf.reset_default_graph()\n",
    "\n",
    "placeholder_x = tf.placeholder(tf.float64,[n_sample, 1],\"placeholder_x\")\n",
    "placeholder_y = tf.placeholder(tf.float64,[n_sample, 1],\"placeholder_y\")\n",
    "\n",
    "learning_rate = 0.001\n",
    "epochs = 100\n",
    "\n",
    "with tf.Session() as session:    \n",
    "    \n",
    "    feed_dict = {placeholder_x: training_x, placeholder_y: training_y}\n",
    "    \n",
    "    model = Model(placeholder_x, placeholder_y, learning_rate)\n",
    "    error_summary = None\n",
    "\n",
    "    session.run(tf.global_variables_initializer())\n",
    "    \n",
    "    timestamp = datetime.datetime.now().strftime('%Y-%m-%d_%H:%M:%S')\n",
    "    writer = tf.summary.FileWriter(tb_logs_dir + timestamp + \"_lr=\" + str(learning_rate) + \"_epochs=\" + str(epochs), session.graph)\n",
    "    \n",
    "    for epoch in range(1, epochs + 1):\n",
    "        session.run(model.epoch(), feed_dict=feed_dict)\n",
    "        \n",
    "        if error_summary is None:\n",
    "            error_summary = tf.summary.scalar(name='Error', tensor=model.error)\n",
    "        \n",
    "        writer.add_summary(session.run(error_summary, feed_dict=feed_dict), epoch)\n",
    "    \n",
    "    writer.close()\n",
    "session.close()"
   ]
  },
  {
   "cell_type": "code",
   "execution_count": null,
   "metadata": {},
   "outputs": [],
   "source": []
  },
  {
   "cell_type": "code",
   "execution_count": null,
   "metadata": {},
   "outputs": [],
   "source": []
  }
 ],
 "metadata": {
  "kernelspec": {
   "display_name": "Python 3",
   "language": "python",
   "name": "python3"
  },
  "language_info": {
   "codemirror_mode": {
    "name": "ipython",
    "version": 3
   },
   "file_extension": ".py",
   "mimetype": "text/x-python",
   "name": "python",
   "nbconvert_exporter": "python",
   "pygments_lexer": "ipython3",
   "version": "3.8.2"
  }
 },
 "nbformat": 4,
 "nbformat_minor": 4
}
